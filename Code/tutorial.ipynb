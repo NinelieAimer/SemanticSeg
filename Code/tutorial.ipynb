{
 "cells": [
  {
   "cell_type": "markdown",
   "metadata": {},
   "source": [
    "# Semantic Segmentation DataLoader"
   ]
  },
  {
   "cell_type": "markdown",
   "metadata": {},
   "source": [
    "> 下面是语义分割DataLoader制作方法，以后都以此为模板制作语义分割DataLoader，以传统U-Net制作为例"
   ]
  },
  {
   "cell_type": "code",
   "execution_count": 1,
   "metadata": {},
   "outputs": [],
   "source": [
    "import torch.utils.data as data\n",
    "import torch\n",
    "from torchvision import transforms\n",
    "from PIL import Image\n",
    "import os\n",
    "import numpy as np"
   ]
  },
  {
   "cell_type": "markdown",
   "metadata": {},
   "source": [
    "- 首先是获取路径，这里建议直接用**相对路径转绝对路径，否则listdir会不起作用**\n",
    "- 然后再用一个迭代求出每个图片的绝对路径"
   ]
  },
  {
   "cell_type": "code",
   "execution_count": 2,
   "metadata": {},
   "outputs": [],
   "source": [
    "img_file=os.path.abspath(\"../Data/membrane/train/image/\")\n",
    "label_file=os.path.abspath(\"../Data/membrane/train/label\")\n",
    "\n",
    "img_name=os.listdir(img_file)\n",
    "img_list=[img_file+'\\\\'+str for str in img_name]\n",
    "\n",
    "label_name=os.listdir(label_file)\n",
    "label_list=[label_file+'\\\\'+str for str in label_name]"
   ]
  },
  {
   "cell_type": "markdown",
   "metadata": {},
   "source": [
    "开始制作数据集，制作数据集本质其实就是继承Dataset类，具体操作如下"
   ]
  },
  {
   "cell_type": "code",
   "execution_count": 64,
   "metadata": {},
   "outputs": [],
   "source": [
    "from torch.utils.data import Dataset"
   ]
  },
  {
   "cell_type": "code",
   "execution_count": 65,
   "metadata": {},
   "outputs": [],
   "source": [
    "class MyDataSet(Dataset):\n",
    "    def __init__(self,img_list,label_list,transform=None) -> None:\n",
    "        super().__init__()\n",
    "        \n",
    "        self.img_list=img_list\n",
    "        self.lable_list=label_list\n",
    "        self.tranform=transform\n",
    "    \n",
    "    def __getitem__(self, index):\n",
    "        img=Image.open(self.img_list[index])\n",
    "        label=Image.open(self.lable_list[index])\n",
    "        if self.tranform is not None:\n",
    "            img=self.tranform(img)\n",
    "            label=self.tranform(label)\n",
    "        \n",
    "        return img,label\n",
    "    \n",
    "    def __len__(self):\n",
    "        return len(self.img_list)\n",
    "    \n",
    "img_dataset=MyDataSet(img_list,label_list,transform)        "
   ]
  },
  {
   "cell_type": "code",
   "execution_count": null,
   "metadata": {},
   "outputs": [],
   "source": []
  }
 ],
 "metadata": {
  "kernelspec": {
   "display_name": "Python 3.9.12 ('base')",
   "language": "python",
   "name": "python3"
  },
  "language_info": {
   "codemirror_mode": {
    "name": "ipython",
    "version": 3
   },
   "file_extension": ".py",
   "mimetype": "text/x-python",
   "name": "python",
   "nbconvert_exporter": "python",
   "pygments_lexer": "ipython3",
   "version": "3.9.12"
  },
  "orig_nbformat": 4,
  "vscode": {
   "interpreter": {
    "hash": "88279d2366fe020547cde40dd65aa0e3aa662a6ec1f3ca12d88834876c85e1a6"
   }
  }
 },
 "nbformat": 4,
 "nbformat_minor": 2
}
